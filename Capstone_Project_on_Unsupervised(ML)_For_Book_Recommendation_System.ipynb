{
  "nbformat": 4,
  "nbformat_minor": 0,
  "metadata": {
    "colab": {
      "provenance": [],
      "authorship_tag": "ABX9TyN7PcaXWRC1GuzNJq5rsApY",
      "include_colab_link": true
    },
    "kernelspec": {
      "name": "python3",
      "display_name": "Python 3"
    },
    "language_info": {
      "name": "python"
    }
  },
  "cells": [
    {
      "cell_type": "markdown",
      "metadata": {
        "id": "view-in-github",
        "colab_type": "text"
      },
      "source": [
        "<a href=\"https://colab.research.google.com/github/himanshu302002/Unsupervised-ML-/blob/main/Capstone_Project_on_Unsupervised(ML)_For_Book_Recommendation_System.ipynb\" target=\"_parent\"><img src=\"https://colab.research.google.com/assets/colab-badge.svg\" alt=\"Open In Colab\"/></a>"
      ]
    },
    {
      "cell_type": "markdown",
      "source": [
        "**Project Name -    Unsupervised(ML) For Book Recommendation System**"
      ],
      "metadata": {
        "id": "6uruFVNDoR0P"
      }
    },
    {
      "cell_type": "markdown",
      "source": [
        "**Project Type -  Unsupervised**"
      ],
      "metadata": {
        "id": "8dyYp6iSpIW_"
      }
    },
    {
      "cell_type": "markdown",
      "source": [
        "**Contribution** - Individual(Himanshu Goel)"
      ],
      "metadata": {
        "id": "MLYzLtoVpZ-K"
      }
    },
    {
      "cell_type": "markdown",
      "source": [
        "**Github Link:**"
      ],
      "metadata": {
        "id": "m1tqF2F9pqtz"
      }
    },
    {
      "cell_type": "markdown",
      "source": [],
      "metadata": {
        "id": "2pWgP0CgpwOC"
      }
    }
  ]
}